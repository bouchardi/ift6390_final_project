{
 "cells": [
  {
   "cell_type": "code",
   "execution_count": null,
   "metadata": {},
   "outputs": [],
   "source": [
    "import pandas as pd\n",
    "import matplotlib.pyplot as plt\n",
    "import numpy as np\n",
    "import seaborn as sns\n",
    "import pandas\n",
    "\n",
    "pandas.set_option('display.max_rows', None)"
   ]
  },
  {
   "cell_type": "markdown",
   "metadata": {},
   "source": [
    "# Heart Disease Dataset"
   ]
  },
  {
   "cell_type": "code",
   "execution_count": null,
   "metadata": {},
   "outputs": [],
   "source": [
    "heart_df = pd.read_csv('./data/heart-statlog/data/heart-statlog_csv.csv')\n",
    "print(\"COLUMNS\", heart_df.columns)\n",
    "print(\"SIZE\",heart_df.size)\n",
    "print(heart_df.describe)"
   ]
  },
  {
   "cell_type": "code",
   "execution_count": null,
   "metadata": {},
   "outputs": [],
   "source": [
    "heart_df.dtypes"
   ]
  },
  {
   "cell_type": "code",
   "execution_count": null,
   "metadata": {},
   "outputs": [],
   "source": [
    "# There is no missing data in heart dataset, where 0 means no missing data\n",
    "heart_df.isna().sum()"
   ]
  },
  {
   "cell_type": "code",
   "execution_count": null,
   "metadata": {},
   "outputs": [],
   "source": [
    "print(\"Min age: {}\".format(heart_df['age'].min()))\n",
    "print(\"Max age: {}\".format(heart_df['age'].max()))"
   ]
  },
  {
   "cell_type": "code",
   "execution_count": null,
   "metadata": {},
   "outputs": [],
   "source": [
    "sns.set(style=\"whitegrid\")\n",
    "sns.set_palette(sns.color_palette(\"Set1\", n_colors=5))\n",
    "\n",
    "\n",
    "pd.crosstab(heart_df['age'],heart_df['class']).plot(kind=\"bar\",figsize=(20,6))\n",
    "plt.title('Heart Disease Frequency for Ages')\n",
    "plt.xlabel('Age')\n",
    "plt.ylabel('Frequency')\n",
    "plt.show()"
   ]
  },
  {
   "cell_type": "code",
   "execution_count": null,
   "metadata": {},
   "outputs": [],
   "source": [
    "sns.set(style=\"whitegrid\")\n",
    "sns.set_palette(sns.color_palette(\"Set2\", n_colors=5))\n",
    "\n",
    "plt.figure(figsize=(15,12))\n",
    "plt.subplots_adjust(wspace = 0.4, hspace= 0.4)\n",
    "\n",
    "plt.subplot(2,2,1)\n",
    "plt.title(\"Distribution of diseased and not diseased patients.\")\n",
    "sns.countplot(x=\"class\", data=heart_df)\n",
    "plt.xlabel(\"Target (0 = not diseased, 1= diseased)\")\n",
    "\n",
    "plt.subplot(2,2,2)\n",
    "plt.title(\"Distribution of male and female patients\")\n",
    "sns.countplot(x=\"sex\", data=heart_df)\n",
    "plt.xlabel(\"Gender (0 = female, 1= male)\")\n",
    "plt.show()"
   ]
  },
  {
   "cell_type": "code",
   "execution_count": null,
   "metadata": {},
   "outputs": [],
   "source": [
    "# find correlation - highly correlated features can be removed. With a threshold of 80%, no highly correlated features\n",
    "plt.figure(figsize=(12,12))\n",
    "sns.heatmap(heart_df.corr(),annot=True,cmap='YlGnBu', annot_kws={\"size\": 10})\n",
    "plt.yticks(rotation = 0)\n",
    "# plt.tight_layout()\n",
    "b, t = plt.ylim() # discover the values for bottom and top\n",
    "b += 0.5 # Add 0.5 to the bottom\n",
    "t -= 0.5 # Subtract 0.5 from the top\n",
    "plt.ylim(b, t) # update the ylim(bottom, top) values\n",
    "plt.show() \n",
    "plt.show()"
   ]
  },
  {
   "cell_type": "markdown",
   "metadata": {},
   "source": [
    "# Cervical Cancer Dataset"
   ]
  },
  {
   "cell_type": "code",
   "execution_count": null,
   "metadata": {},
   "outputs": [],
   "source": [
    "print(\"Cervical Cancer Dataset\")\n",
    "cervical_df = pd.read_csv('./data/cervical-cancer/data/cervical-cancer_csv.csv')\n",
    "print(\"COLUMNS\", cervical_df.columns)\n",
    "print(\"SIZE\",cervical_df.size)\n",
    "print(cervical_df.describe)"
   ]
  },
  {
   "cell_type": "code",
   "execution_count": null,
   "metadata": {},
   "outputs": [],
   "source": [
    "# There's a lot of missing data in cervical dataset, where 0 means no missing data\n",
    "cervical_df.isna().sum()"
   ]
  },
  {
   "cell_type": "code",
   "execution_count": null,
   "metadata": {},
   "outputs": [],
   "source": [
    "sns.set(style=\"whitegrid\")\n",
    "sns.set_palette(sns.color_palette(\"Set1\", n_colors=5))\n",
    "\n",
    "\n",
    "pd.crosstab(cervical_df['Age'],cervical_df['Biopsy']).plot(kind=\"bar\",figsize=(20,6))\n",
    "plt.title('Cervical Cancer Frequency for Ages')\n",
    "plt.xlabel('Age')\n",
    "plt.ylabel('Frequency')\n",
    "plt.show()"
   ]
  },
  {
   "cell_type": "code",
   "execution_count": null,
   "metadata": {},
   "outputs": [],
   "source": [
    "sns.set(style=\"whitegrid\")\n",
    "sns.set_palette(sns.color_palette(\"Set2\", n_colors=5))\n",
    "\n",
    "plt.figure(figsize=(15,12))\n",
    "plt.subplots_adjust(wspace = 0.4, hspace= 0.4)\n",
    "\n",
    "plt.subplot(2,2,1)\n",
    "plt.title(\"Distribution of diseased and not diseased patients.\")\n",
    "sns.countplot(x=\"Biopsy\", data=cervical_df)\n",
    "plt.xlabel(\"Target (0 = no cervical cancer, 1= cervical cancer)\")"
   ]
  },
  {
   "cell_type": "code",
   "execution_count": null,
   "metadata": {},
   "outputs": [],
   "source": [
    "# find correlation - highly correlated features can be removed. With a threshold of 80%, no highly correlated features\n",
    "plt.figure(figsize=(15,15))\n",
    "sns.heatmap(cervical_df.corr(),annot=True,cmap='YlGnBu', annot_kws={\"size\": 6}, fmt='.2f')\n",
    "plt.yticks(rotation = 0)\n",
    "# plt.tight_layout()\n",
    "b, t = plt.ylim() # discover the values for bottom and top\n",
    "b += 0.5 # Add 0.5 to the bottom\n",
    "t -= 0.5 # Subtract 0.5 from the top\n",
    "plt.ylim(b, t) # update the ylim(bottom, top) values\n",
    "plt.show() \n",
    "plt.show()"
   ]
  },
  {
   "cell_type": "markdown",
   "metadata": {},
   "source": [
    "## Cleaning dataset (handling missing values)"
   ]
  },
  {
   "cell_type": "code",
   "execution_count": null,
   "metadata": {},
   "outputs": [],
   "source": [
    "# Drop columns when there are too many missing data (\"STDs: Time since first/last diagnosis\"),\n",
    "# when there are dupplicate information in the table (e.g. \"IUD\" and \"IUD (years)\")\n",
    "# or when there are only negative event in the dataset (\"STDs:cervical condylomatosis\" and \"STDs:AIDS\")\n",
    "clean_cervical_df = cervical_df.drop([\n",
    "    \"STDs: Time since first diagnosis\", \n",
    "    \"STDs: Time since last diagnosis\",\n",
    "    \"STDs\",\n",
    "    \"IUD\",\n",
    "    \"Smokes\", \n",
    "    \"Hormonal Contraceptives\",\n",
    "    \"STDs:AIDS\", \n",
    "    \"STDs:cervical condylomatosis\",\n",
    "], axis=1)\n",
    "\n",
    "# Replace some missing values by 0. when the occurence is lower than 2%\n",
    "clean_cervical_df = clean_cervical_df.replace(\n",
    "    { \n",
    "        \"STDs:condylomatosis\": np.nan,  \n",
    "        \"STDs:vaginal condylomatosis\": np.nan, \n",
    "        \"STDs:vulvo-perineal condylomatosis\": np.nan, \n",
    "        \"STDs:syphilis\": np.nan, \n",
    "        \"STDs:pelvic inflammatory disease\": np.nan, \n",
    "        \"STDs:genital herpes\": np.nan, \n",
    "        \"STDs:molluscum contagiosum\": np.nan, \n",
    "        \"STDs:HIV\": np.nan, \n",
    "        \"STDs:Hepatitis B\": np.nan, \n",
    "        \"STDs:HPV\": np.nan\n",
    "    }, 0.)\n",
    "\n",
    "# Replace some missing values by the median\n",
    "clean_cervical_df = clean_cervical_df.replace(\n",
    "    {\n",
    "        \"Number of sexual partners\": np.nan,\n",
    "        \"First sexual intercourse\": np.nan,\n",
    "        \"Num of pregnancies\": np.nan,\n",
    "        \"Smokes (years)\": np.nan,\n",
    "        \"Smokes (packs/year)\": np.nan,\n",
    "        \"Hormonal Contraceptives (years)\": np.nan,\n",
    "        \"IUD (years)\": np.nan,\n",
    "        \"STDs (number)\": np.nan,\n",
    "    }, \n",
    "    {\n",
    "        \"Number of sexual partners\": clean_cervical_df[\"Number of sexual partners\"].median(),\n",
    "        \"First sexual intercourse\":  clean_cervical_df[\"First sexual intercourse\"].median(),\n",
    "         \"Num of pregnancies\":  clean_cervical_df[\"Num of pregnancies\"].median(),\n",
    "        \"Smokes (years)\":  clean_cervical_df[\"Smokes (years)\"].median(),\n",
    "        \"Smokes (packs/year)\":  clean_cervical_df[\"Smokes (packs/year)\"].median(),\n",
    "        \"Hormonal Contraceptives (years)\":  clean_cervical_df[\"Hormonal Contraceptives (years)\"].median(),\n",
    "        \"IUD (years)\":  clean_cervical_df[\"IUD (years)\"].median(),\n",
    "        \"STDs (number)\":  clean_cervical_df[\"STDs (number)\"].median(),\n",
    "    }\n",
    ")\n",
    "\n",
    "\n",
    "clean_cervical_df"
   ]
  },
  {
   "cell_type": "code",
   "execution_count": null,
   "metadata": {},
   "outputs": [],
   "source": [
    "# There's a lot of missing data in cervical dataset, where 0 means no missing data\n",
    "clean_cervical_df.isna().sum()"
   ]
  },
  {
   "cell_type": "code",
   "execution_count": null,
   "metadata": {},
   "outputs": [],
   "source": [
    "# find correlation - highly correlated features can be removed. With a threshold of 80%, no highly correlated features\n",
    "plt.figure(figsize=(15,15))\n",
    "sns.heatmap(clean_cervical_df.corr(),annot=True,cmap='YlGnBu', annot_kws={\"size\": 6}, fmt='.2f')\n",
    "plt.yticks(rotation = 0)\n",
    "# plt.tight_layout()\n",
    "b, t = plt.ylim() # discover the values for bottom and top\n",
    "b += 0.5 # Add 0.5 to the bottom\n",
    "t -= 0.5 # Subtract 0.5 from the top\n",
    "plt.ylim(b, t) # update the ylim(bottom, top) values\n",
    "plt.show() \n",
    "plt.show()"
   ]
  },
  {
   "cell_type": "markdown",
   "metadata": {},
   "source": [
    "## Save cleaned data"
   ]
  },
  {
   "cell_type": "code",
   "execution_count": null,
   "metadata": {},
   "outputs": [],
   "source": [
    "clean_cervical_df.to_csv('./data/cervical-cancer/data/clean_cervical-cancer_csv.csv', index=False)"
   ]
  }
 ],
 "metadata": {
  "colab": {
   "name": "data_exploration.ipynb",
   "provenance": [],
   "toc_visible": true
  },
  "kernelspec": {
   "display_name": "Python 3",
   "language": "python",
   "name": "python3"
  },
  "language_info": {
   "codemirror_mode": {
    "name": "ipython",
    "version": 3
   },
   "file_extension": ".py",
   "mimetype": "text/x-python",
   "name": "python",
   "nbconvert_exporter": "python",
   "pygments_lexer": "ipython3",
   "version": "3.7.0"
  }
 },
 "nbformat": 4,
 "nbformat_minor": 1
}
