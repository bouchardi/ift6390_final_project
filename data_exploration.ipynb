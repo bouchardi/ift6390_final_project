{
 "cells": [
  {
   "cell_type": "code",
   "execution_count": 31,
   "metadata": {
    "colab": {
     "base_uri": "https://localhost:8080/",
     "height": 630,
     "resources": {
      "http://localhost:8080/nbextensions/google.colab/files.js": {
       "data": "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",
       "headers": [
        [
         "content-type",
         "application/javascript"
        ]
       ],
       "ok": true,
       "status": 200,
       "status_text": ""
      }
     }
    },
    "colab_type": "code",
    "executionInfo": {
     "elapsed": 17811,
     "status": "ok",
     "timestamp": 1576527074574,
     "user": {
      "displayName": "Carolyne Pelletier",
      "photoUrl": "https://lh3.googleusercontent.com/-KxxYWjwuy4U/AAAAAAAAAAI/AAAAAAAAhlA/bx_WjqK5ddo/s64/photo.jpg",
      "userId": "15164509602820073060"
     },
     "user_tz": 300
    },
    "id": "E3sDYmYIJW82",
    "outputId": "014cb653-4234-46d7-f68d-a2b8a627148e"
   },
   "outputs": [
    {
     "name": "stdout",
     "output_type": "stream",
     "text": [
      "The autoreload extension is already loaded. To reload it, use:\n",
      "  %reload_ext autoreload\n"
     ]
    }
   ],
   "source": [
    "#!pip install \"notebook>=5.3\" \"ipywidgets>=7.2\"\n",
    "#!pip install -U ipykernel\n",
    "# from google.colab import drive\n",
    "# drive.mount('/content/gdrive', force_remount=True)\n",
    "# root_dir = \"/content/gdrive/My Drive/\"\n",
    "\n",
    "# !cd /content/gdrive/My\\ Drive/ift6390_final_project/scikit_classifiers.py\n",
    "# !cat '/content/gdrive/My Drive/ift6390_final_project/scikit_classifiers.py'\n",
    "\n",
    "# from pydrive.auth import GoogleAuth\n",
    "# from pydrive.drive import GoogleDrive\n",
    "# from google.colab import auth\n",
    "# from oauth2client.client import GoogleCredentials\n",
    "# auth.authenticate_user()\n",
    "# gauth = GoogleAuth()\n",
    "# gauth.credentials = GoogleCredentials.get_application_default()\n",
    "# drive = GoogleDrive(gauth)\n",
    "# #https://drive.google.com/open?id=1WnxkrjBglI8nbZk3XTL3CaoXII-ilMTQ\n",
    "# your_module = drive.CreateFile({'id':'[1WnxkrjBglI8nbZk3XTL3CaoXII-ilMTQ]'})\n",
    "# your_module.GetContentFile('scikit_classifiers.py')\n",
    "\n",
    "# from google.colab import drive\n",
    "# drive.mount('/content/gdrive', force_remount=True)\n",
    "# root_dir = \"/content/gdrive/My Drive/ift6390_final_project\"\n",
    "\n",
    "# from google.colab import files\n",
    "# src = list(files.upload().values())[0]\n",
    "# open('scikit_classifiers.py','wb').write(src)\n",
    "# import scikit_classifiers\n",
    "\n",
    "#!pip install \"notebook>=5.3\" \"ipywidgets>=7.2\"\n",
    "from scikit_classifiers import main\n",
    "from scikit_classifiers import read_dataset\n",
    "from scikit_classifiers import VALID_DATASET_NAMES as _DATASETS\n",
    "from scikit_classifiers import CLASSIFIERS\n",
    "import plotly.graph_objects as go\n",
    "%load_ext autoreload\n",
    "%autoreload 2\n"
   ]
  },
  {
   "cell_type": "markdown",
   "metadata": {},
   "source": [
    "## Get Datasets and Print Features"
   ]
  },
  {
   "cell_type": "code",
   "execution_count": 51,
   "metadata": {
    "colab": {
     "base_uri": "https://localhost:8080/",
     "height": 170
    },
    "colab_type": "code",
    "executionInfo": {
     "elapsed": 17759,
     "status": "ok",
     "timestamp": 1576527074579,
     "user": {
      "displayName": "Carolyne Pelletier",
      "photoUrl": "https://lh3.googleusercontent.com/-KxxYWjwuy4U/AAAAAAAAAAI/AAAAAAAAhlA/bx_WjqK5ddo/s64/photo.jpg",
      "userId": "15164509602820073060"
     },
     "user_tz": 300
    },
    "id": "F7COr1HdJW9I",
    "outputId": "ee83d137-8ad4-4aac-ddac-b1e6623e1fe1"
   },
   "outputs": [],
   "source": [
    "# # _MODELS = list(CLASSIFIERS.keys())\n",
    "# # print(f\"Models\")\n",
    "# # [print(f\"{i}: {m}\") for i, m in enumerate(_MODELS)]\n",
    "# print(f\"Datasets\")\n",
    "# _ = [print(f\"{i}: {m}\") for i, m in enumerate(_DATASETS)]\n",
    "# print(\"\\n\\nHeart Disease Features:\")\n",
    "# HEART_DATASET = _DATASETS[0]\n",
    "# heart_features, _ = read_dataset(HEART_DATASET, head=True)\n",
    "# [print(f\"{i}: {f}\") for i, f in enumerate(heart_features)]\n",
    "\n",
    "# print(\"\\n\\nCervical Cancer Features:\")\n",
    "# CERVICAL_DATASET = _DATASETS[1]\n",
    "# cervical_features, _ = read_dataset(CERVICAL_DATASET, head=True)\n",
    "# [print(f\"{i}: {f}\") for i, f in enumerate(cervical_features)]"
   ]
  },
  {
   "cell_type": "code",
   "execution_count": 52,
   "metadata": {
    "colab": {
     "base_uri": "https://localhost:8080/",
     "height": 351
    },
    "colab_type": "code",
    "executionInfo": {
     "elapsed": 17748,
     "status": "error",
     "timestamp": 1576527074582,
     "user": {
      "displayName": "Carolyne Pelletier",
      "photoUrl": "https://lh3.googleusercontent.com/-KxxYWjwuy4U/AAAAAAAAAAI/AAAAAAAAhlA/bx_WjqK5ddo/s64/photo.jpg",
      "userId": "15164509602820073060"
     },
     "user_tz": 300
    },
    "id": "jHCq9CDRJW9O",
    "outputId": "c70eaac6-ac28-4930-e2f5-e6b1479a7063",
    "scrolled": true
   },
   "outputs": [],
   "source": [
    "# heart_x, heart_y = read_dataset(HEART_DATASET, head=False)\n",
    "# print(\"Size of heart ds\", len(heart_x))\n",
    "# assert len(heart_x) == len(heart_y)\n",
    "\n",
    "# cervical_x, cervical_y = read_dataset(CERVICAL_DATASET, head=False)\n",
    "# print(\"\\nSize of cervical ds\", len(cervical_x))\n",
    "# assert len(cervical_x) == len(cervical_y)\n"
   ]
  },
  {
   "cell_type": "code",
   "execution_count": 61,
   "metadata": {},
   "outputs": [
    {
     "name": "stdout",
     "output_type": "stream",
     "text": [
      "Heart Disease Dataset\n",
      "COLUMNS Index(['age', 'sex', 'chest', 'resting_blood_pressure', 'serum_cholestoral',\n",
      "       'fasting_blood_sugar', 'resting_electrocardiographic_results',\n",
      "       'maximum_heart_rate_achieved', 'exercise_induced_angina', 'oldpeak',\n",
      "       'slope', 'number_of_major_vessels', 'thal', 'class'],\n",
      "      dtype='object')\n",
      "SIZE 3780\n",
      "<bound method NDFrame.describe of      age  sex  chest  resting_blood_pressure  serum_cholestoral  \\\n",
      "0     70    1      4                     130                322   \n",
      "1     67    0      3                     115                564   \n",
      "2     57    1      2                     124                261   \n",
      "3     64    1      4                     128                263   \n",
      "4     74    0      2                     120                269   \n",
      "..   ...  ...    ...                     ...                ...   \n",
      "265   52    1      3                     172                199   \n",
      "266   44    1      2                     120                263   \n",
      "267   56    0      2                     140                294   \n",
      "268   57    1      4                     140                192   \n",
      "269   67    1      4                     160                286   \n",
      "\n",
      "     fasting_blood_sugar  resting_electrocardiographic_results  \\\n",
      "0                      0                                     2   \n",
      "1                      0                                     2   \n",
      "2                      0                                     0   \n",
      "3                      0                                     0   \n",
      "4                      0                                     2   \n",
      "..                   ...                                   ...   \n",
      "265                    1                                     0   \n",
      "266                    0                                     0   \n",
      "267                    0                                     2   \n",
      "268                    0                                     0   \n",
      "269                    0                                     2   \n",
      "\n",
      "     maximum_heart_rate_achieved  exercise_induced_angina  oldpeak  slope  \\\n",
      "0                            109                        0      2.4      2   \n",
      "1                            160                        0      1.6      2   \n",
      "2                            141                        0      0.3      1   \n",
      "3                            105                        1      0.2      2   \n",
      "4                            121                        1      0.2      1   \n",
      "..                           ...                      ...      ...    ...   \n",
      "265                          162                        0      0.5      1   \n",
      "266                          173                        0      0.0      1   \n",
      "267                          153                        0      1.3      2   \n",
      "268                          148                        0      0.4      2   \n",
      "269                          108                        1      1.5      2   \n",
      "\n",
      "     number_of_major_vessels  thal    class  \n",
      "0                          3     3  present  \n",
      "1                          0     7   absent  \n",
      "2                          0     7  present  \n",
      "3                          1     7   absent  \n",
      "4                          1     3   absent  \n",
      "..                       ...   ...      ...  \n",
      "265                        0     7   absent  \n",
      "266                        0     7   absent  \n",
      "267                        0     3   absent  \n",
      "268                        0     6   absent  \n",
      "269                        3     3  present  \n",
      "\n",
      "[270 rows x 14 columns]>\n"
     ]
    }
   ],
   "source": [
    "import pandas as pd\n",
    "import matplotlib.pyplot as plt\n",
    "import numpy as np\n",
    "\n",
    "print(\"Heart Disease Dataset\")\n",
    "heart_df = pd.read_csv('./data/heart-statlog/data/heart-statlog_csv.csv')\n",
    "print(\"COLUMNS\", heart_df.columns)\n",
    "print(\"SIZE\",heart_df.size)\n",
    "print(heart_df.describe)\n"
   ]
  },
  {
   "cell_type": "code",
   "execution_count": 64,
   "metadata": {},
   "outputs": [
    {
     "data": {
      "text/plain": [
       "age                                       int64\n",
       "sex                                       int64\n",
       "chest                                     int64\n",
       "resting_blood_pressure                    int64\n",
       "serum_cholestoral                         int64\n",
       "fasting_blood_sugar                       int64\n",
       "resting_electrocardiographic_results      int64\n",
       "maximum_heart_rate_achieved               int64\n",
       "exercise_induced_angina                   int64\n",
       "oldpeak                                 float64\n",
       "slope                                     int64\n",
       "number_of_major_vessels                   int64\n",
       "thal                                      int64\n",
       "class                                    object\n",
       "dtype: object"
      ]
     },
     "execution_count": 64,
     "metadata": {},
     "output_type": "execute_result"
    }
   ],
   "source": [
    "heart_df.dtypes"
   ]
  },
  {
   "cell_type": "code",
   "execution_count": 65,
   "metadata": {},
   "outputs": [
    {
     "data": {
      "text/plain": [
       "age                                     0\n",
       "sex                                     0\n",
       "chest                                   0\n",
       "resting_blood_pressure                  0\n",
       "serum_cholestoral                       0\n",
       "fasting_blood_sugar                     0\n",
       "resting_electrocardiographic_results    0\n",
       "maximum_heart_rate_achieved             0\n",
       "exercise_induced_angina                 0\n",
       "oldpeak                                 0\n",
       "slope                                   0\n",
       "number_of_major_vessels                 0\n",
       "thal                                    0\n",
       "class                                   0\n",
       "dtype: int64"
      ]
     },
     "execution_count": 65,
     "metadata": {},
     "output_type": "execute_result"
    }
   ],
   "source": [
    "# There is no missing data in heart dataset, where 0 means no missing data\n",
    "heart_df.isna().sum()"
   ]
  },
  {
   "cell_type": "code",
   "execution_count": 63,
   "metadata": {},
   "outputs": [
    {
     "name": "stdout",
     "output_type": "stream",
     "text": [
      "Min age: 29\n",
      "Max age: 77\n"
     ]
    }
   ],
   "source": [
    "print(\"Min age: {}\".format(heart_df['age'].min()))\n",
    "print(\"Max age: {}\".format(heart_df['age'].max()))"
   ]
  },
  {
   "cell_type": "markdown",
   "metadata": {},
   "source": [
    "# Data visualization"
   ]
  },
  {
   "cell_type": "markdown",
   "metadata": {},
   "source": [
    "## Bar plots"
   ]
  },
  {
   "cell_type": "code",
   "execution_count": 89,
   "metadata": {},
   "outputs": [
    {
     "data": {
      "text/plain": [
       "Text(0, 0.5, 'Count')"
      ]
     },
     "execution_count": 89,
     "metadata": {},
     "output_type": "execute_result"
    },
    {
     "data": {
      "image/png": "[encoded data removed]",
      "text/plain": [
       "<Figure size 432x288 with 1 Axes>"
      ]
     },
     "metadata": {
      "needs_background": "light"
     },
     "output_type": "display_data"
    }
   ],
   "source": [
    "heart_df['age'].value_counts().plot(\n",
    "    kind='bar',\n",
    "    title='Heart Disease Dataset: Distribution of Age'\n",
    ")\n",
    "plt.xlabel('Age')\n",
    "plt.ylabel('Count')"
   ]
  },
  {
   "cell_type": "code",
   "execution_count": 90,
   "metadata": {},
   "outputs": [
    {
     "data": {
      "text/plain": [
       "Text(0, 0.5, 'Count')"
      ]
     },
     "execution_count": 90,
     "metadata": {},
     "output_type": "execute_result"
    },
    {
     "data": {
      "image/png": "[encoded data removed]",
      "text/plain": [
       "<Figure size 432x288 with 1 Axes>"
      ]
     },
     "metadata": {
      "needs_background": "light"
     },
     "output_type": "display_data"
    }
   ],
   "source": [
    "heart_df['sex'].value_counts().plot(\n",
    "    kind='bar',\n",
    "    title='Heart Disease Dataset: Distribution of Gender'\n",
    ")\n",
    "plt.xlabel('Gender')\n",
    "plt.ylabel('Count')"
   ]
  },
  {
   "cell_type": "code",
   "execution_count": 73,
   "metadata": {},
   "outputs": [
    {
     "name": "stdout",
     "output_type": "stream",
     "text": [
      "Cervical Cancer Dataset\n",
      "COLUMNS Index(['Age', 'Number of sexual partners', 'First sexual intercourse',\n",
      "       'Num of pregnancies', 'Smokes', 'Smokes (years)', 'Smokes (packs/year)',\n",
      "       'Hormonal Contraceptives', 'Hormonal Contraceptives (years)', 'IUD',\n",
      "       'IUD (years)', 'STDs', 'STDs (number)', 'STDs:condylomatosis',\n",
      "       'STDs:cervical condylomatosis', 'STDs:vaginal condylomatosis',\n",
      "       'STDs:vulvo-perineal condylomatosis', 'STDs:syphilis',\n",
      "       'STDs:pelvic inflammatory disease', 'STDs:genital herpes',\n",
      "       'STDs:molluscum contagiosum', 'STDs:AIDS', 'STDs:HIV',\n",
      "       'STDs:Hepatitis B', 'STDs:HPV', 'STDs: Number of diagnosis',\n",
      "       'STDs: Time since first diagnosis', 'STDs: Time since last diagnosis',\n",
      "       'Dx:Cancer', 'Dx:CIN', 'Dx:HPV', 'Dx', 'Hinselmann', 'Schiller',\n",
      "       'Citology', 'Biopsy'],\n",
      "      dtype='object')\n",
      "SIZE 30060\n",
      "<bound method NDFrame.describe of      Age  Number of sexual partners  First sexual intercourse  \\\n",
      "0     18                        4.0                      15.0   \n",
      "1     15                        1.0                      14.0   \n",
      "2     34                        1.0                       NaN   \n",
      "3     52                        5.0                      16.0   \n",
      "4     46                        3.0                      21.0   \n",
      "..   ...                        ...                       ...   \n",
      "830   34                        3.0                      18.0   \n",
      "831   32                        2.0                      19.0   \n",
      "832   25                        2.0                      17.0   \n",
      "833   33                        2.0                      24.0   \n",
      "834   29                        2.0                      20.0   \n",
      "\n",
      "     Num of pregnancies  Smokes  Smokes (years)  Smokes (packs/year)  \\\n",
      "0                   1.0     0.0             0.0                  0.0   \n",
      "1                   1.0     0.0             0.0                  0.0   \n",
      "2                   1.0     0.0             0.0                  0.0   \n",
      "3                   4.0     1.0            37.0                 37.0   \n",
      "4                   4.0     0.0             0.0                  0.0   \n",
      "..                  ...     ...             ...                  ...   \n",
      "830                 0.0     0.0             0.0                  0.0   \n",
      "831                 1.0     0.0             0.0                  0.0   \n",
      "832                 0.0     0.0             0.0                  0.0   \n",
      "833                 2.0     0.0             0.0                  0.0   \n",
      "834                 1.0     0.0             0.0                  0.0   \n",
      "\n",
      "     Hormonal Contraceptives  Hormonal Contraceptives (years)  IUD  ...  \\\n",
      "0                        0.0                             0.00  0.0  ...   \n",
      "1                        0.0                             0.00  0.0  ...   \n",
      "2                        0.0                             0.00  0.0  ...   \n",
      "3                        1.0                             3.00  0.0  ...   \n",
      "4                        1.0                            15.00  0.0  ...   \n",
      "..                       ...                              ...  ...  ...   \n",
      "830                      0.0                             0.00  0.0  ...   \n",
      "831                      1.0                             8.00  0.0  ...   \n",
      "832                      1.0                             0.08  0.0  ...   \n",
      "833                      1.0                             0.08  0.0  ...   \n",
      "834                      1.0                             0.50  0.0  ...   \n",
      "\n",
      "     STDs: Time since first diagnosis  STDs: Time since last diagnosis  \\\n",
      "0                                 NaN                              NaN   \n",
      "1                                 NaN                              NaN   \n",
      "2                                 NaN                              NaN   \n",
      "3                                 NaN                              NaN   \n",
      "4                                 NaN                              NaN   \n",
      "..                                ...                              ...   \n",
      "830                               NaN                              NaN   \n",
      "831                               NaN                              NaN   \n",
      "832                               NaN                              NaN   \n",
      "833                               NaN                              NaN   \n",
      "834                               NaN                              NaN   \n",
      "\n",
      "     Dx:Cancer  Dx:CIN  Dx:HPV  Dx  Hinselmann  Schiller  Citology  Biopsy  \n",
      "0            0       0       0   0           0         0         0       0  \n",
      "1            0       0       0   0           0         0         0       0  \n",
      "2            0       0       0   0           0         0         0       0  \n",
      "3            1       0       1   0           0         0         0       0  \n",
      "4            0       0       0   0           0         0         0       0  \n",
      "..         ...     ...     ...  ..         ...       ...       ...     ...  \n",
      "830          0       0       0   0           0         0         0       0  \n",
      "831          0       0       0   0           0         0         0       0  \n",
      "832          0       0       0   0           0         0         1       0  \n",
      "833          0       0       0   0           0         0         0       0  \n",
      "834          0       0       0   0           0         0         0       0  \n",
      "\n",
      "[835 rows x 36 columns]>\n"
     ]
    }
   ],
   "source": [
    "print(\"Cervical Cancer Dataset\")\n",
    "cervical_df = pd.read_csv('./data/cervical-cancer/data/cervical-cancer_csv.csv')\n",
    "print(\"COLUMNS\", cervical_df.columns)\n",
    "print(\"SIZE\",cervical_df.size)\n",
    "print(cervical_df.describe)"
   ]
  },
  {
   "cell_type": "code",
   "execution_count": 66,
   "metadata": {},
   "outputs": [
    {
     "data": {
      "text/plain": [
       "Age                                     0\n",
       "Number of sexual partners              25\n",
       "First sexual intercourse                7\n",
       "Num of pregnancies                     56\n",
       "Smokes                                 13\n",
       "Smokes (years)                         13\n",
       "Smokes (packs/year)                    13\n",
       "Hormonal Contraceptives               103\n",
       "Hormonal Contraceptives (years)       103\n",
       "IUD                                   112\n",
       "IUD (years)                           112\n",
       "STDs                                  100\n",
       "STDs (number)                         100\n",
       "STDs:condylomatosis                   100\n",
       "STDs:cervical condylomatosis          100\n",
       "STDs:vaginal condylomatosis           100\n",
       "STDs:vulvo-perineal condylomatosis    100\n",
       "STDs:syphilis                         100\n",
       "STDs:pelvic inflammatory disease      100\n",
       "STDs:genital herpes                   100\n",
       "STDs:molluscum contagiosum            100\n",
       "STDs:AIDS                             100\n",
       "STDs:HIV                              100\n",
       "STDs:Hepatitis B                      100\n",
       "STDs:HPV                              100\n",
       "STDs: Number of diagnosis               0\n",
       "STDs: Time since first diagnosis      764\n",
       "STDs: Time since last diagnosis       764\n",
       "Dx:Cancer                               0\n",
       "Dx:CIN                                  0\n",
       "Dx:HPV                                  0\n",
       "Dx                                      0\n",
       "Hinselmann                              0\n",
       "Schiller                                0\n",
       "Citology                                0\n",
       "Biopsy                                  0\n",
       "dtype: int64"
      ]
     },
     "execution_count": 66,
     "metadata": {},
     "output_type": "execute_result"
    }
   ],
   "source": [
    "# There's a lot of missing data in cervical dataset, where 0 means no missing data\n",
    "cervical_df.isna().sum()"
   ]
  },
  {
   "cell_type": "code",
   "execution_count": 88,
   "metadata": {},
   "outputs": [
    {
     "data": {
      "text/plain": [
       "Text(0, 0.5, 'count')"
      ]
     },
     "execution_count": 88,
     "metadata": {},
     "output_type": "execute_result"
    },
    {
     "data": {
      "image/png": "[encoded data removed]",
      "text/plain": [
       "<Figure size 432x288 with 1 Axes>"
      ]
     },
     "metadata": {
      "needs_background": "light"
     },
     "output_type": "display_data"
    }
   ],
   "source": [
    "cervical_df['Age'].value_counts().plot(\n",
    "    kind='bar',\n",
    "    title='Cervical Cancer Dataset: Distribution of Age'\n",
    ")\n",
    "plt.xlabel('Age')\n",
    "plt.ylabel('Count')\n"
   ]
  },
  {
   "cell_type": "code",
   "execution_count": null,
   "metadata": {},
   "outputs": [],
   "source": []
  }
 ],
 "metadata": {
  "colab": {
   "name": "data_exploration.ipynb",
   "provenance": [],
   "toc_visible": true
  },
  "kernelspec": {
   "display_name": "Python 3",
   "language": "python",
   "name": "python3"
  },
  "language_info": {
   "codemirror_mode": {
    "name": "ipython",
    "version": 3
   },
   "file_extension": ".py",
   "mimetype": "text/x-python",
   "name": "python",
   "nbconvert_exporter": "python",
   "pygments_lexer": "ipython3",
   "version": "3.7.5"
  }
 },
 "nbformat": 4,
 "nbformat_minor": 1
}
