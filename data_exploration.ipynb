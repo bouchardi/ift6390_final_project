{
 "cells": [
  {
   "cell_type": "code",
   "execution_count": 91,
   "metadata": {},
   "outputs": [
    {
     "name": "stdout",
     "output_type": "stream",
     "text": [
      "Heart Disease Dataset\n",
      "COLUMNS Index(['age', 'sex', 'chest', 'resting_blood_pressure', 'serum_cholestoral',\n",
      "       'fasting_blood_sugar', 'resting_electrocardiographic_results',\n",
      "       'maximum_heart_rate_achieved', 'exercise_induced_angina', 'oldpeak',\n",
      "       'slope', 'number_of_major_vessels', 'thal', 'class'],\n",
      "      dtype='object')\n",
      "SIZE 3780\n",
      "<bound method NDFrame.describe of      age  sex  chest  resting_blood_pressure  serum_cholestoral  \\\n",
      "0     70    1      4                     130                322   \n",
      "1     67    0      3                     115                564   \n",
      "2     57    1      2                     124                261   \n",
      "3     64    1      4                     128                263   \n",
      "4     74    0      2                     120                269   \n",
      "..   ...  ...    ...                     ...                ...   \n",
      "265   52    1      3                     172                199   \n",
      "266   44    1      2                     120                263   \n",
      "267   56    0      2                     140                294   \n",
      "268   57    1      4                     140                192   \n",
      "269   67    1      4                     160                286   \n",
      "\n",
      "     fasting_blood_sugar  resting_electrocardiographic_results  \\\n",
      "0                      0                                     2   \n",
      "1                      0                                     2   \n",
      "2                      0                                     0   \n",
      "3                      0                                     0   \n",
      "4                      0                                     2   \n",
      "..                   ...                                   ...   \n",
      "265                    1                                     0   \n",
      "266                    0                                     0   \n",
      "267                    0                                     2   \n",
      "268                    0                                     0   \n",
      "269                    0                                     2   \n",
      "\n",
      "     maximum_heart_rate_achieved  exercise_induced_angina  oldpeak  slope  \\\n",
      "0                            109                        0      2.4      2   \n",
      "1                            160                        0      1.6      2   \n",
      "2                            141                        0      0.3      1   \n",
      "3                            105                        1      0.2      2   \n",
      "4                            121                        1      0.2      1   \n",
      "..                           ...                      ...      ...    ...   \n",
      "265                          162                        0      0.5      1   \n",
      "266                          173                        0      0.0      1   \n",
      "267                          153                        0      1.3      2   \n",
      "268                          148                        0      0.4      2   \n",
      "269                          108                        1      1.5      2   \n",
      "\n",
      "     number_of_major_vessels  thal    class  \n",
      "0                          3     3  present  \n",
      "1                          0     7   absent  \n",
      "2                          0     7  present  \n",
      "3                          1     7   absent  \n",
      "4                          1     3   absent  \n",
      "..                       ...   ...      ...  \n",
      "265                        0     7   absent  \n",
      "266                        0     7   absent  \n",
      "267                        0     3   absent  \n",
      "268                        0     6   absent  \n",
      "269                        3     3  present  \n",
      "\n",
      "[270 rows x 14 columns]>\n"
     ]
    }
   ],
   "source": [
    "import pandas as pd\n",
    "import matplotlib.pyplot as plt\n",
    "import numpy as np\n",
    "\n",
    "print(\"Heart Disease Dataset\")\n",
    "heart_df = pd.read_csv('./data/heart-statlog/data/heart-statlog_csv.csv')\n",
    "print(\"COLUMNS\", heart_df.columns)\n",
    "print(\"SIZE\",heart_df.size)\n",
    "print(heart_df.describe)\n"
   ]
  },
  {
   "cell_type": "code",
   "execution_count": 92,
   "metadata": {},
   "outputs": [
    {
     "data": {
      "text/plain": [
       "age                                       int64\n",
       "sex                                       int64\n",
       "chest                                     int64\n",
       "resting_blood_pressure                    int64\n",
       "serum_cholestoral                         int64\n",
       "fasting_blood_sugar                       int64\n",
       "resting_electrocardiographic_results      int64\n",
       "maximum_heart_rate_achieved               int64\n",
       "exercise_induced_angina                   int64\n",
       "oldpeak                                 float64\n",
       "slope                                     int64\n",
       "number_of_major_vessels                   int64\n",
       "thal                                      int64\n",
       "class                                    object\n",
       "dtype: object"
      ]
     },
     "execution_count": 92,
     "metadata": {},
     "output_type": "execute_result"
    }
   ],
   "source": [
    "heart_df.dtypes"
   ]
  },
  {
   "cell_type": "code",
   "execution_count": 93,
   "metadata": {},
   "outputs": [
    {
     "data": {
      "text/plain": [
       "age                                     0\n",
       "sex                                     0\n",
       "chest                                   0\n",
       "resting_blood_pressure                  0\n",
       "serum_cholestoral                       0\n",
       "fasting_blood_sugar                     0\n",
       "resting_electrocardiographic_results    0\n",
       "maximum_heart_rate_achieved             0\n",
       "exercise_induced_angina                 0\n",
       "oldpeak                                 0\n",
       "slope                                   0\n",
       "number_of_major_vessels                 0\n",
       "thal                                    0\n",
       "class                                   0\n",
       "dtype: int64"
      ]
     },
     "execution_count": 93,
     "metadata": {},
     "output_type": "execute_result"
    }
   ],
   "source": [
    "# There is no missing data in heart dataset, where 0 means no missing data\n",
    "heart_df.isna().sum()"
   ]
  },
  {
   "cell_type": "code",
   "execution_count": 94,
   "metadata": {},
   "outputs": [
    {
     "name": "stdout",
     "output_type": "stream",
     "text": [
      "Min age: 29\n",
      "Max age: 77\n"
     ]
    }
   ],
   "source": [
    "print(\"Min age: {}\".format(heart_df['age'].min()))\n",
    "print(\"Max age: {}\".format(heart_df['age'].max()))"
   ]
  },
  {
   "cell_type": "markdown",
   "metadata": {},
   "source": [
    "# Data visualization"
   ]
  },
  {
   "cell_type": "markdown",
   "metadata": {},
   "source": [
    "## Bar plots"
   ]
  },
  {
   "cell_type": "code",
   "execution_count": 95,
   "metadata": {},
   "outputs": [
    {
     "data": {
      "text/plain": [
       "Text(0, 0.5, 'Count')"
      ]
     },
     "execution_count": 95,
     "metadata": {},
     "output_type": "execute_result"
    },
    {
     "data": {
      "image/png": "[encoded data removed]",
      "text/plain": [
       "<Figure size 432x288 with 1 Axes>"
      ]
     },
     "metadata": {
      "needs_background": "light"
     },
     "output_type": "display_data"
    }
   ],
   "source": [
    "heart_df['age'].value_counts().plot(\n",
    "    kind='bar',\n",
    "    title='Heart Disease Dataset: Distribution of Age'\n",
    ")\n",
    "plt.xlabel('Age')\n",
    "plt.ylabel('Count')"
   ]
  },
  {
   "cell_type": "code",
   "execution_count": 96,
   "metadata": {},
   "outputs": [
    {
     "data": {
      "text/plain": [
       "Text(0, 0.5, 'Count')"
      ]
     },
     "execution_count": 96,
     "metadata": {},
     "output_type": "execute_result"
    },
    {
     "data": {
      "image/png": "[encoded data removed]",
      "text/plain": [
       "<Figure size 432x288 with 1 Axes>"
      ]
     },
     "metadata": {
      "needs_background": "light"
     },
     "output_type": "display_data"
    }
   ],
   "source": [
    "heart_df['sex'].value_counts().plot(\n",
    "    kind='bar',\n",
    "    title='Heart Disease Dataset: Distribution of Gender'\n",
    ")\n",
    "plt.xlabel('Gender')\n",
    "plt.ylabel('Count')"
   ]
  },
  {
   "cell_type": "code",
   "execution_count": 97,
   "metadata": {},
   "outputs": [
    {
     "name": "stdout",
     "output_type": "stream",
     "text": [
      "Cervical Cancer Dataset\n",
      "COLUMNS Index(['Age', 'Number of sexual partners', 'First sexual intercourse',\n",
      "       'Num of pregnancies', 'Smokes', 'Smokes (years)', 'Smokes (packs/year)',\n",
      "       'Hormonal Contraceptives', 'Hormonal Contraceptives (years)', 'IUD',\n",
      "       'IUD (years)', 'STDs', 'STDs (number)', 'STDs:condylomatosis',\n",
      "       'STDs:cervical condylomatosis', 'STDs:vaginal condylomatosis',\n",
      "       'STDs:vulvo-perineal condylomatosis', 'STDs:syphilis',\n",
      "       'STDs:pelvic inflammatory disease', 'STDs:genital herpes',\n",
      "       'STDs:molluscum contagiosum', 'STDs:AIDS', 'STDs:HIV',\n",
      "       'STDs:Hepatitis B', 'STDs:HPV', 'STDs: Number of diagnosis',\n",
      "       'STDs: Time since first diagnosis', 'STDs: Time since last diagnosis',\n",
      "       'Dx:Cancer', 'Dx:CIN', 'Dx:HPV', 'Dx', 'Hinselmann', 'Schiller',\n",
      "       'Citology', 'Biopsy'],\n",
      "      dtype='object')\n",
      "SIZE 30060\n",
      "<bound method NDFrame.describe of      Age  Number of sexual partners  First sexual intercourse  \\\n",
      "0     18                        4.0                      15.0   \n",
      "1     15                        1.0                      14.0   \n",
      "2     34                        1.0                       NaN   \n",
      "3     52                        5.0                      16.0   \n",
      "4     46                        3.0                      21.0   \n",
      "..   ...                        ...                       ...   \n",
      "830   34                        3.0                      18.0   \n",
      "831   32                        2.0                      19.0   \n",
      "832   25                        2.0                      17.0   \n",
      "833   33                        2.0                      24.0   \n",
      "834   29                        2.0                      20.0   \n",
      "\n",
      "     Num of pregnancies  Smokes  Smokes (years)  Smokes (packs/year)  \\\n",
      "0                   1.0     0.0             0.0                  0.0   \n",
      "1                   1.0     0.0             0.0                  0.0   \n",
      "2                   1.0     0.0             0.0                  0.0   \n",
      "3                   4.0     1.0            37.0                 37.0   \n",
      "4                   4.0     0.0             0.0                  0.0   \n",
      "..                  ...     ...             ...                  ...   \n",
      "830                 0.0     0.0             0.0                  0.0   \n",
      "831                 1.0     0.0             0.0                  0.0   \n",
      "832                 0.0     0.0             0.0                  0.0   \n",
      "833                 2.0     0.0             0.0                  0.0   \n",
      "834                 1.0     0.0             0.0                  0.0   \n",
      "\n",
      "     Hormonal Contraceptives  Hormonal Contraceptives (years)  IUD  ...  \\\n",
      "0                        0.0                             0.00  0.0  ...   \n",
      "1                        0.0                             0.00  0.0  ...   \n",
      "2                        0.0                             0.00  0.0  ...   \n",
      "3                        1.0                             3.00  0.0  ...   \n",
      "4                        1.0                            15.00  0.0  ...   \n",
      "..                       ...                              ...  ...  ...   \n",
      "830                      0.0                             0.00  0.0  ...   \n",
      "831                      1.0                             8.00  0.0  ...   \n",
      "832                      1.0                             0.08  0.0  ...   \n",
      "833                      1.0                             0.08  0.0  ...   \n",
      "834                      1.0                             0.50  0.0  ...   \n",
      "\n",
      "     STDs: Time since first diagnosis  STDs: Time since last diagnosis  \\\n",
      "0                                 NaN                              NaN   \n",
      "1                                 NaN                              NaN   \n",
      "2                                 NaN                              NaN   \n",
      "3                                 NaN                              NaN   \n",
      "4                                 NaN                              NaN   \n",
      "..                                ...                              ...   \n",
      "830                               NaN                              NaN   \n",
      "831                               NaN                              NaN   \n",
      "832                               NaN                              NaN   \n",
      "833                               NaN                              NaN   \n",
      "834                               NaN                              NaN   \n",
      "\n",
      "     Dx:Cancer  Dx:CIN  Dx:HPV  Dx  Hinselmann  Schiller  Citology  Biopsy  \n",
      "0            0       0       0   0           0         0         0       0  \n",
      "1            0       0       0   0           0         0         0       0  \n",
      "2            0       0       0   0           0         0         0       0  \n",
      "3            1       0       1   0           0         0         0       0  \n",
      "4            0       0       0   0           0         0         0       0  \n",
      "..         ...     ...     ...  ..         ...       ...       ...     ...  \n",
      "830          0       0       0   0           0         0         0       0  \n",
      "831          0       0       0   0           0         0         0       0  \n",
      "832          0       0       0   0           0         0         1       0  \n",
      "833          0       0       0   0           0         0         0       0  \n",
      "834          0       0       0   0           0         0         0       0  \n",
      "\n",
      "[835 rows x 36 columns]>\n"
     ]
    }
   ],
   "source": [
    "print(\"Cervical Cancer Dataset\")\n",
    "cervical_df = pd.read_csv('./data/cervical-cancer/data/cervical-cancer_csv.csv')\n",
    "print(\"COLUMNS\", cervical_df.columns)\n",
    "print(\"SIZE\",cervical_df.size)\n",
    "print(cervical_df.describe)"
   ]
  },
  {
   "cell_type": "code",
   "execution_count": 98,
   "metadata": {},
   "outputs": [
    {
     "data": {
      "text/plain": [
       "Age                                     0\n",
       "Number of sexual partners              25\n",
       "First sexual intercourse                7\n",
       "Num of pregnancies                     56\n",
       "Smokes                                 13\n",
       "Smokes (years)                         13\n",
       "Smokes (packs/year)                    13\n",
       "Hormonal Contraceptives               103\n",
       "Hormonal Contraceptives (years)       103\n",
       "IUD                                   112\n",
       "IUD (years)                           112\n",
       "STDs                                  100\n",
       "STDs (number)                         100\n",
       "STDs:condylomatosis                   100\n",
       "STDs:cervical condylomatosis          100\n",
       "STDs:vaginal condylomatosis           100\n",
       "STDs:vulvo-perineal condylomatosis    100\n",
       "STDs:syphilis                         100\n",
       "STDs:pelvic inflammatory disease      100\n",
       "STDs:genital herpes                   100\n",
       "STDs:molluscum contagiosum            100\n",
       "STDs:AIDS                             100\n",
       "STDs:HIV                              100\n",
       "STDs:Hepatitis B                      100\n",
       "STDs:HPV                              100\n",
       "STDs: Number of diagnosis               0\n",
       "STDs: Time since first diagnosis      764\n",
       "STDs: Time since last diagnosis       764\n",
       "Dx:Cancer                               0\n",
       "Dx:CIN                                  0\n",
       "Dx:HPV                                  0\n",
       "Dx                                      0\n",
       "Hinselmann                              0\n",
       "Schiller                                0\n",
       "Citology                                0\n",
       "Biopsy                                  0\n",
       "dtype: int64"
      ]
     },
     "execution_count": 98,
     "metadata": {},
     "output_type": "execute_result"
    }
   ],
   "source": [
    "# There's a lot of missing data in cervical dataset, where 0 means no missing data\n",
    "cervical_df.isna().sum()"
   ]
  },
  {
   "cell_type": "code",
   "execution_count": 99,
   "metadata": {},
   "outputs": [
    {
     "data": {
      "text/plain": [
       "Text(0, 0.5, 'Count')"
      ]
     },
     "execution_count": 99,
     "metadata": {},
     "output_type": "execute_result"
    },
    {
     "data": {
      "image/png": "[encoded data removed]",
      "text/plain": [
       "<Figure size 432x288 with 1 Axes>"
      ]
     },
     "metadata": {
      "needs_background": "light"
     },
     "output_type": "display_data"
    }
   ],
   "source": [
    "cervical_df['Age'].value_counts().plot(\n",
    "    kind='bar',\n",
    "    title='Cervical Cancer Dataset: Distribution of Age'\n",
    ")\n",
    "plt.xlabel('Age')\n",
    "plt.ylabel('Count')\n"
   ]
  },
  {
   "cell_type": "code",
   "execution_count": null,
   "metadata": {},
   "outputs": [],
   "source": []
  }
 ],
 "metadata": {
  "colab": {
   "name": "data_exploration.ipynb",
   "provenance": [],
   "toc_visible": true
  },
  "kernelspec": {
   "display_name": "Python 3",
   "language": "python",
   "name": "python3"
  },
  "language_info": {
   "codemirror_mode": {
    "name": "ipython",
    "version": 3
   },
   "file_extension": ".py",
   "mimetype": "text/x-python",
   "name": "python",
   "nbconvert_exporter": "python",
   "pygments_lexer": "ipython3",
   "version": "3.7.5"
  }
 },
 "nbformat": 4,
 "nbformat_minor": 1
}
