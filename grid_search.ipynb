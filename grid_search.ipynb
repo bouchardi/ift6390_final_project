{
 "cells": [
  {
   "cell_type": "code",
   "execution_count": null,
   "metadata": {},
   "outputs": [],
   "source": [
    "from scikit_classifiers import main\n",
    "from scikit_classifiers import read_dataset\n",
    "from scikit_classifiers import DATASETS\n",
    "from scikit_classifiers import CLASSIFIERS\n",
    "from helpers import print_datasets\n",
    "from helpers import print_models\n",
    "from helpers import plot_grid_search\n",
    "from sklearn.tree import plot_tree\n",
    "from matplotlib.pyplot import figure\n",
    "\n",
    "%load_ext autoreload\n",
    "%autoreload 2"
   ]
  },
  {
   "cell_type": "markdown",
   "metadata": {},
   "source": [
    "### AVAILABLE MODELS"
   ]
  },
  {
   "cell_type": "code",
   "execution_count": null,
   "metadata": {},
   "outputs": [],
   "source": [
    "_MODELS = list(CLASSIFIERS.keys())\n",
    "print_models()"
   ]
  },
  {
   "cell_type": "markdown",
   "metadata": {},
   "source": [
    "### AVAILABLE DATASETS"
   ]
  },
  {
   "cell_type": "code",
   "execution_count": null,
   "metadata": {},
   "outputs": [],
   "source": [
    "_DATASETS = list(DATASETS.keys())\n",
    "print_datasets()"
   ]
  },
  {
   "cell_type": "markdown",
   "metadata": {},
   "source": [
    "### SELECTED DATASET"
   ]
  },
  {
   "cell_type": "code",
   "execution_count": null,
   "metadata": {},
   "outputs": [],
   "source": [
    "_DATASET_NAME = _DATASETS[1]\n",
    "_BALANCE = True\n",
    "_SELECT_FEATURES = False\n",
    "\n",
    "print(\n",
    "    f\"Selected dataset: \\\n",
    "    {_DATASET_NAME}{' (balanced)' if _BALANCE else ''}\" \\\n",
    ")"
   ]
  },
  {
   "cell_type": "markdown",
   "metadata": {},
   "source": [
    "## Random Forest"
   ]
  },
  {
   "cell_type": "code",
   "execution_count": null,
   "metadata": {},
   "outputs": [],
   "source": [
    "_MODEL_NAME = _MODELS[1]\n",
    "model = main(\n",
    "    dataset_name=_DATASET_NAME, \n",
    "    model_name=_MODEL_NAME, \n",
    "    select_features=_SELECT_FEATURES, \n",
    "    balance=_BALANCE\n",
    ")\n",
    "fig = plot_grid_search(\n",
    "    model.cv_results_, \n",
    "    model_name=_MODEL_NAME, \n",
    "    dataset_name=_DATASET_NAME, \n",
    "    balance=_BALANCE\n",
    ")\n",
    "if fig: \n",
    "    fig.show()"
   ]
  },
  {
   "cell_type": "markdown",
   "metadata": {},
   "source": [
    "## Logistic Regression"
   ]
  },
  {
   "cell_type": "code",
   "execution_count": null,
   "metadata": {},
   "outputs": [],
   "source": [
    "_MODEL_NAME = _MODELS[3]\n",
    "model = main(\n",
    "    dataset_name=_DATASET_NAME, \n",
    "    model_name=_MODEL_NAME, \n",
    "    select_features=_SELECT_FEATURES, \n",
    "    balance=_BALANCE\n",
    ")\n",
    "fig = plot_grid_search(\n",
    "    model.cv_results_, \n",
    "    model_name=_MODEL_NAME, \n",
    "    dataset_name=_DATASET_NAME, \n",
    "    balance=_BALANCE\n",
    ")\n",
    "if fig:\n",
    "    fig.show()"
   ]
  },
  {
   "cell_type": "markdown",
   "metadata": {},
   "source": [
    "## MLP"
   ]
  },
  {
   "cell_type": "code",
   "execution_count": null,
   "metadata": {},
   "outputs": [],
   "source": [
    "_MODEL_NAME = _MODELS[0]\n",
    "model = main(\n",
    "    dataset_name=_DATASET_NAME, \n",
    "    model_name=_MODEL_NAME, \n",
    "    select_features=_SELECT_FEATURES, \n",
    "    balance=_BALANCE\n",
    ")\n",
    "fig = plot_grid_search(\n",
    "    model.cv_results_, \n",
    "    model_name=_MODEL_NAME, \n",
    "    dataset_name=_DATASET_NAME, \n",
    "    balance=_BALANCE\n",
    ")\n",
    "if fig: \n",
    "    fig.show()"
   ]
  }
 ],
 "metadata": {
  "kernelspec": {
   "display_name": "Python 3",
   "language": "python",
   "name": "python3"
  },
  "language_info": {
   "codemirror_mode": {
    "name": "ipython",
    "version": 3
   },
   "file_extension": ".py",
   "mimetype": "text/x-python",
   "name": "python",
   "nbconvert_exporter": "python",
   "pygments_lexer": "ipython3",
   "version": "3.7.0"
  }
 },
 "nbformat": 4,
 "nbformat_minor": 2
}
