{
 "cells": [
  {
   "cell_type": "code",
   "execution_count": null,
   "metadata": {},
   "outputs": [],
   "source": [
    "from scikit_classifiers import main\n",
    "from scikit_classifiers import read_dataset\n",
    "from scikit_classifiers import VALID_DATASET_NAMES as _DATASETS\n",
    "from scikit_classifiers import CLASSIFIERS\n",
    "import plotly.graph_objects as go\n",
    "%load_ext autoreload\n",
    "%autoreload 2"
   ]
  },
  {
   "cell_type": "code",
   "execution_count": null,
   "metadata": {},
   "outputs": [],
   "source": [
    "_MODELS = list(CLASSIFIERS.keys())\n",
    "print(f\"Models\")\n",
    "[print(f\"{i}: {m}\") for i, m in enumerate(_MODELS)]\n",
    "print(f\"Datasets\")\n",
    "_ = [print(f\"{i}: {m}\") for i, m in enumerate(_DATASETS)]"
   ]
  },
  {
   "cell_type": "code",
   "execution_count": null,
   "metadata": {},
   "outputs": [],
   "source": [
    "_DATASET_NAME = _DATASETS[0]\n",
    "\n",
    "all_feature_names, _ = read_dataset(_DATASET_NAME, head=True)\n",
    "[print(f\"{i}: {f}\") for i, f in enumerate(all_feature_names)]\n",
    "class_names = [\"0\", \"1\"]\n",
    "\n",
    "selected_feature_indexes = None\n",
    "# Heart Disease dataset\n",
    "# selected_feature_indexes = [0, 2, 3, 4, 7, 8, 9, 11, 12]\n",
    "# Cervical cancer dataset\n",
    "# selected_feature_indexes = [0, 1, 2, 3, 5, 6, 7, 8, 9, 10, 12, 19, 22, 27, 28, 29, 30, 31, 32, 33, 34]\n",
    "\n",
    "feature_names, _ = read_dataset(_DATASET_NAME, head=True, selected_feature_indexes=selected_feature_indexes)"
   ]
  },
  {
   "cell_type": "code",
   "execution_count": null,
   "metadata": {},
   "outputs": [],
   "source": [
    "print(len(feature_names))"
   ]
  },
  {
   "cell_type": "markdown",
   "metadata": {},
   "source": [
    "## Random Forest"
   ]
  },
  {
   "cell_type": "code",
   "execution_count": null,
   "metadata": {},
   "outputs": [],
   "source": [
    "_MODEL_NAME = _MODELS[1]\n",
    "model = main(dataset_name=_DATASET_NAME, model_name=_MODEL_NAME, selected_feature_indexes=selected_feature_indexes)"
   ]
  },
  {
   "cell_type": "code",
   "execution_count": null,
   "metadata": {},
   "outputs": [],
   "source": [
    "feature_importances = model.best_estimator_.feature_importances_\n",
    "\n",
    "fig = go.Figure(\n",
    "    data=[go.Bar(x=feature_names, y=feature_importances)],\n",
    "    layout_title_text=f\"Feature importance for {_DATASET_NAME} given a {_MODEL_NAME} model\"\n",
    ")\n",
    "fig.show()"
   ]
  },
  {
   "cell_type": "code",
   "execution_count": null,
   "metadata": {},
   "outputs": [],
   "source": [
    "model = main(dataset_name=_DATASET_NAME, model_name=_MODELS[2], selected_feature_indexes=selected_feature_indexes)"
   ]
  },
  {
   "cell_type": "code",
   "execution_count": null,
   "metadata": {},
   "outputs": [],
   "source": [
    "from sklearn.tree import plot_tree\n",
    "from matplotlib.pyplot import figure\n",
    "figure(num=None, figsize=(17, 8), dpi=400, facecolor='w', edgecolor='k')\n",
    "plot_tree(model.best_estimator_, feature_names=feature_names, rotate=True, fontsize=4, class_names=[\"Y\", \"F\"])"
   ]
  },
  {
   "cell_type": "markdown",
   "metadata": {},
   "source": [
    "## Logistic Regression"
   ]
  },
  {
   "cell_type": "code",
   "execution_count": null,
   "metadata": {},
   "outputs": [],
   "source": [
    "model_l1 = main(dataset_name=_DATASET_NAME, model_name=_MODELS[3], selected_feature_indexes=selected_feature_indexes)\n",
    "model_l2 = main(dataset_name=_DATASET_NAME, model_name=_MODELS[4], selected_feature_indexes=selected_feature_indexes)"
   ]
  },
  {
   "cell_type": "code",
   "execution_count": null,
   "metadata": {},
   "outputs": [],
   "source": [
    "feature_importances_l1 = model_l1.best_estimator_.coef_[0]\n",
    "feature_importances_l2 = model_l2.best_estimator_.coef_[0]\n",
    "feature_names, _ = read_dataset(_DATASET_NAME, head=True)\n",
    "\n",
    "fig = go.Figure(\n",
    "    data=[\n",
    "        go.Bar(x=feature_names, y=feature_importances_l1, name=\"L1\"), \n",
    "        go.Bar(x=feature_names, y=feature_importances_l2, name=\"L2\")\n",
    "    ],\n",
    "    layout_title_text=f\"Feature importance for {_DATASET_NAME} given a Logistic Regression model\"\n",
    ")\n",
    "fig.show()"
   ]
  },
  {
   "cell_type": "markdown",
   "metadata": {},
   "source": [
    "## MLP"
   ]
  },
  {
   "cell_type": "code",
   "execution_count": null,
   "metadata": {},
   "outputs": [],
   "source": [
    "model_MLP = main(dataset_name=_DATASET_NAME, model_name=_MODELS[0], selected_feature_indexes=selected_feature_indexes)"
   ]
  }
 ],
 "metadata": {
  "kernelspec": {
   "display_name": "Python 3",
   "language": "python",
   "name": "python3"
  },
  "language_info": {
   "codemirror_mode": {
    "name": "ipython",
    "version": 3
   },
   "file_extension": ".py",
   "mimetype": "text/x-python",
   "name": "python",
   "nbconvert_exporter": "python",
   "pygments_lexer": "ipython3",
   "version": "3.7.0"
  }
 },
 "nbformat": 4,
 "nbformat_minor": 2
}
