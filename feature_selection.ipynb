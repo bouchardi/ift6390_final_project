{
 "cells": [
  {
   "cell_type": "code",
   "execution_count": null,
   "metadata": {},
   "outputs": [],
   "source": [
    "from scikit_classifiers import main\n",
    "from scikit_classifiers import read_dataset\n",
    "from scikit_classifiers import DATASETS\n",
    "from scikit_classifiers import CLASSIFIERS\n",
    "from scikit_classifiers import SELECTED_FEATURES\n",
    "from helpers import print_datasets\n",
    "from helpers import print_models\n",
    "import plotly.graph_objects as go\n",
    "from sklearn.tree import plot_tree\n",
    "from matplotlib.pyplot import figure\n",
    "\n",
    "%load_ext autoreload\n",
    "%autoreload 2"
   ]
  },
  {
   "cell_type": "markdown",
   "metadata": {},
   "source": [
    "### AVAILABLE  MODELS"
   ]
  },
  {
   "cell_type": "code",
   "execution_count": null,
   "metadata": {},
   "outputs": [],
   "source": [
    "_MODELS = list(CLASSIFIERS.keys())\n",
    "print_models()"
   ]
  },
  {
   "cell_type": "markdown",
   "metadata": {},
   "source": [
    "### AVAILABLE DATASETS"
   ]
  },
  {
   "cell_type": "code",
   "execution_count": null,
   "metadata": {},
   "outputs": [],
   "source": [
    "_DATASETS = list(DATASETS.keys())\n",
    "print_datasets()"
   ]
  },
  {
   "cell_type": "markdown",
   "metadata": {},
   "source": [
    "### SELECTED DATASET"
   ]
  },
  {
   "cell_type": "code",
   "execution_count": null,
   "metadata": {},
   "outputs": [],
   "source": [
    "_DATASET_NAME = _DATASETS[1]\n",
    "_BALANCE = True\n",
    "\n",
    "print(\n",
    "    f\"Selected dataset: \\\n",
    "    {_DATASET_NAME}{' (balanced)' if _BALANCE else ''}\" \\\n",
    ")"
   ]
  },
  {
   "cell_type": "markdown",
   "metadata": {},
   "source": [
    "### FEATURE SELECTION"
   ]
  },
  {
   "cell_type": "code",
   "execution_count": null,
   "metadata": {},
   "outputs": [],
   "source": [
    "_SELECT_FEATURES = False\n",
    "\n",
    "feature_names, _ = read_dataset(_DATASET_NAME, head=True, select_features=_SELECT_FEATURES)\n",
    "for i, f in enumerate(feature_names):\n",
    "    print(f\"{i}: {f}\")\n",
    "print(f\"\\nnum features: {len(feature_names)}\")"
   ]
  },
  {
   "cell_type": "markdown",
   "metadata": {},
   "source": [
    "## Random Forest"
   ]
  },
  {
   "cell_type": "code",
   "execution_count": null,
   "metadata": {},
   "outputs": [],
   "source": [
    "_MODEL_NAME = _MODELS[1]\n",
    "model = main(\n",
    "    dataset_name=_DATASET_NAME, \n",
    "    model_name=_MODEL_NAME, \n",
    "    select_features=_SELECT_FEATURES, \n",
    "    balance=_BALANCE\n",
    ")\n",
    "feature_importances = model.best_estimator_.feature_importances_\n",
    "fig = go.Figure(\n",
    "    data=[go.Bar(x=feature_names, y=feature_importances)],\n",
    "    layout_title_text=f\"Feature importance for {_DATASET_NAME} given a {_MODEL_NAME} model\"\n",
    ")\n",
    "fig.show()"
   ]
  },
  {
   "cell_type": "markdown",
   "metadata": {},
   "source": [
    "## Decision Tree"
   ]
  },
  {
   "cell_type": "code",
   "execution_count": null,
   "metadata": {},
   "outputs": [],
   "source": [
    "_MODEL_NAME = _MODELS[2]\n",
    "model = main(\n",
    "    dataset_name=_DATASET_NAME, \n",
    "    model_name=_MODEL_NAME, \n",
    "    select_features=_SELECT_FEATURES, \n",
    "    balance=_BALANCE\n",
    ")\n",
    "figure(figsize=(17, 8))\n",
    "plot_tree(\n",
    "    model.best_estimator_, \n",
    "    feature_names=feature_names, \n",
    "    fontsize=10, \n",
    "    class_names=[\"Y\", \"F\"]\n",
    ")"
   ]
  },
  {
   "cell_type": "markdown",
   "metadata": {},
   "source": [
    "## Logistic Regression"
   ]
  },
  {
   "cell_type": "code",
   "execution_count": null,
   "metadata": {},
   "outputs": [],
   "source": [
    "_MODEL_NAME = _MODELS[3]\n",
    "model_l1 = main(\n",
    "    dataset_name=_DATASET_NAME, \n",
    "    model_name=_MODEL_NAME, \n",
    "    select_features=_SELECT_FEATURES, \n",
    "    balance=_BALANCE\n",
    ")\n",
    "\n",
    "_MODEL_NAME = _MODELS[4]\n",
    "model_l2 = main(\n",
    "    dataset_name=_DATASET_NAME, \n",
    "    model_name=_MODEL_NAME, \n",
    "    select_features=_SELECT_FEATURES, \n",
    "    balance=_BALANCE\n",
    ")\n",
    "feature_importances_l1 = model_l1.best_estimator_.coef_[0]\n",
    "feature_importances_l2 = model_l2.best_estimator_.coef_[0]\n",
    "feature_names, _ = read_dataset(_DATASET_NAME, head=True)\n",
    "\n",
    "fig = go.Figure(\n",
    "    data=[\n",
    "        go.Bar(x=feature_names, y=feature_importances_l1, name=\"L1\"), \n",
    "        go.Bar(x=feature_names, y=feature_importances_l2, name=\"L2\")\n",
    "    ],\n",
    "    layout_title_text=f\"Feature importance for {_DATASET_NAME} given a Logistic Regression model\"\n",
    ")\n",
    "fig.show()"
   ]
  }
 ],
 "metadata": {
  "kernelspec": {
   "display_name": "Python 3",
   "language": "python",
   "name": "python3"
  },
  "language_info": {
   "codemirror_mode": {
    "name": "ipython",
    "version": 3
   },
   "file_extension": ".py",
   "mimetype": "text/x-python",
   "name": "python",
   "nbconvert_exporter": "python",
   "pygments_lexer": "ipython3",
   "version": "3.7.0"
  }
 },
 "nbformat": 4,
 "nbformat_minor": 2
}
