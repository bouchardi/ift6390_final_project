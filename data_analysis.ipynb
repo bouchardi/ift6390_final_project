{
 "cells": [
  {
   "cell_type": "code",
   "execution_count": null,
   "metadata": {},
   "outputs": [],
   "source": [
    "from scikit_classifiers import main\n",
    "from scikit_classifiers import read_dataset\n",
    "from scikit_classifiers import VALID_DATASET_NAMES as _DATASETS\n",
    "from scikit_classifiers import CLASSIFIERS\n",
    "import plotly.graph_objects as go\n",
    "%load_ext autoreload\n",
    "%autoreload 2"
   ]
  },
  {
   "cell_type": "markdown",
   "metadata": {},
   "source": [
    "## Print all models and dataset"
   ]
  },
  {
   "cell_type": "code",
   "execution_count": null,
   "metadata": {},
   "outputs": [],
   "source": [
    "_MODELS = list(CLASSIFIERS.keys())\n",
    "print(f\"Models\")\n",
    "[print(f\"{i}: {m}\") for i, m in enumerate(_MODELS)]\n",
    "print(f\"Datasets\")\n",
    "_ = [print(f\"{i}: {m}\") for i, m in enumerate(_DATASETS)]"
   ]
  },
  {
   "cell_type": "markdown",
   "metadata": {},
   "source": [
    "## Random Forest"
   ]
  },
  {
   "cell_type": "code",
   "execution_count": null,
   "metadata": {},
   "outputs": [],
   "source": [
    "_MODEL_NAME = _MODELS[1]\n",
    "\n",
    "model = main(dataset_name=_DATASET_NAME, model_name=_MODEL_NAME)"
   ]
  },
  {
   "cell_type": "code",
   "execution_count": null,
   "metadata": {},
   "outputs": [],
   "source": [
    "feature_importances = model.best_estimator_.feature_importances_\n",
    "feature_names, _ = read_dataset(_DATASET_NAME, head=True)\n",
    "fig = go.Figure(\n",
    "    data=[go.Bar(x=feature_names, y=feature_importances)],\n",
    "    layout_title_text=f\"Feature importance for {_DATASET_NAME} given a {_MODEL_NAME} model\"\n",
    ")\n",
    "fig.show()"
   ]
  },
  {
   "cell_type": "code",
   "execution_count": null,
   "metadata": {},
   "outputs": [],
   "source": [
    "model = main(dataset_name=_DATASET_NAME, model_name=_MODELS[2])"
   ]
  },
  {
   "cell_type": "code",
   "execution_count": null,
   "metadata": {},
   "outputs": [],
   "source": [
    "from sklearn.tree import plot_tree\n",
    "plot_tree(model)"
   ]
  },
  {
   "cell_type": "markdown",
   "metadata": {},
   "source": [
    "## Logistic Regression"
   ]
  },
  {
   "cell_type": "code",
   "execution_count": null,
   "metadata": {},
   "outputs": [],
   "source": [
    "model_l1 = main(dataset_name=_DATASET_NAME, model_name=_MODELS[3])\n",
    "model_l2 = main(dataset_name=_DATASET_NAME, model_name=_MODELS[4])"
   ]
  },
  {
   "cell_type": "code",
   "execution_count": null,
   "metadata": {},
   "outputs": [],
   "source": [
    "feature_importances_l1 = model_l1.best_estimator_.coef_[0]\n",
    "feature_importances_l2 = model_l2.best_estimator_.coef_[0]\n",
    "feature_names, _ = read_dataset(_DATASET_NAME, head=True)\n",
    "\n",
    "fig = go.Figure(\n",
    "    data=[\n",
    "        go.Bar(x=feature_names, y=feature_importances_l1, name=\"L1\"), \n",
    "        go.Bar(x=feature_names, y=feature_importances_l2, name=\"L2\")\n",
    "    ],\n",
    "    layout_title_text=f\"Feature importance for {_DATASET_NAME} given a Logistic Regression model\"\n",
    ")\n",
    "fig.show()"
   ]
  }
 ],
 "metadata": {
  "kernelspec": {
   "display_name": "Python 3",
   "language": "python",
   "name": "python3"
  },
  "language_info": {
   "codemirror_mode": {
    "name": "ipython",
    "version": 3
   },
   "file_extension": ".py",
   "mimetype": "text/x-python",
   "name": "python",
   "nbconvert_exporter": "python",
   "pygments_lexer": "ipython3",
   "version": "3.7.0"
  }
 },
 "nbformat": 4,
 "nbformat_minor": 2
}
